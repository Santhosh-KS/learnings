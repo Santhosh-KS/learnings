{
 "cells": [
  {
   "cell_type": "markdown",
   "metadata": {},
   "source": [
    "# A simple bandit algorithm\n",
    "$Initialize \\space for \\space a$\n",
    "\n",
    "</p>\n",
    "$\\large a \\leftarrow 1 \\space to \\space k: $\n",
    "</p>\n",
    "$\\large Q(a) \\leftarrow 0$\n",
    "</p>\n",
    "$\\large N(a) \\leftarrow 0$\n",
    "</p>\n",
    "\n",
    "$ Loop \\space for \\space ever:$\n",
    "$$ \\large\n",
    "A = \\begin{cases}\n",
    "               argmax_a Q(a) \\leftarrow with \\space probability \\space of \\space (1 - \\epsilon) \\\\\n",
    "               a random action \\leftarrow with \\space probability \\space of \\space \\epsilon \\\\\n",
    "            \\end{cases}\n",
    "$$\n",
    "\n",
    "$$\\large R \\leftarrow bandit(A) $$\n",
    "$$\\large N(A) \\leftarrow N(A) + 1 $$\n",
    "$$\\large Q(A) \\leftarrow R(A) + \\frac {1}{N(A)} * \\Big[ R - Q(A)\\Big] $$"
   ]
  },
  {
   "cell_type": "code",
   "execution_count": 111,
   "metadata": {},
   "outputs": [],
   "source": [
    "import numpy as np"
   ]
  },
  {
   "cell_type": "code",
   "execution_count": 112,
   "metadata": {},
   "outputs": [],
   "source": [
    "K = 5\n",
    "Q = np.zeros(K)\n",
    "N = np.zeros(K)"
   ]
  },
  {
   "cell_type": "code",
   "execution_count": 124,
   "metadata": {},
   "outputs": [],
   "source": [
    "epsilon = 0.01\n",
    "action = 0.\n",
    "rewards = np.random.normal(0,1,K)"
   ]
  },
  {
   "cell_type": "code",
   "execution_count": 125,
   "metadata": {},
   "outputs": [
    {
     "data": {
      "text/plain": [
       "array([ 0.377429  , -0.55454944,  1.4791857 , -0.13781386, -0.67280698])"
      ]
     },
     "execution_count": 125,
     "metadata": {},
     "output_type": "execute_result"
    }
   ],
   "source": [
    "for i in range(100000):\n",
    "    if np.random.normal(size=1) > (1-epsilon):\n",
    "        action = Q.argmax()\n",
    "    else:\n",
    "        action = np.random.randint(1,K)\n",
    "    reward_val = rewards[action]\n",
    "    rewardForTheCurrentAction = reward_val + np.random.random()\n",
    "    N[action] += 1\n",
    "    error = rewardForTheCurrentAction - Q[action]\n",
    "    Q[action] += error / N[action]\n",
    "Q"
   ]
  },
  {
   "cell_type": "code",
   "execution_count": 170,
   "metadata": {},
   "outputs": [
    {
     "data": {
      "text/plain": [
       "(1.4791856984592344, -0.6728069776472269, 2)"
      ]
     },
     "execution_count": 170,
     "metadata": {},
     "output_type": "execute_result"
    }
   ],
   "source": [
    "Q.max(),Q.min(),Q.argmax()"
   ]
  },
  {
   "cell_type": "code",
   "execution_count": null,
   "metadata": {},
   "outputs": [],
   "source": []
  }
 ],
 "metadata": {
  "kernelspec": {
   "display_name": "py37_django",
   "language": "python",
   "name": "py37_django"
  },
  "language_info": {
   "codemirror_mode": {
    "name": "ipython",
    "version": 3
   },
   "file_extension": ".py",
   "mimetype": "text/x-python",
   "name": "python",
   "nbconvert_exporter": "python",
   "pygments_lexer": "ipython3",
   "version": "3.7.1"
  }
 },
 "nbformat": 4,
 "nbformat_minor": 2
}
