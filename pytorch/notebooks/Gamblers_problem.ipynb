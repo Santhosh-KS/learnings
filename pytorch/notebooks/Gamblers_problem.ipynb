{
 "cells": [
  {
   "cell_type": "code",
   "execution_count": 1,
   "metadata": {},
   "outputs": [],
   "source": [
    "import numpy as np\n",
    "import matplotlib\n",
    "matplotlib.use('Agg')\n",
    "import matplotlib.pyplot as plt\n"
   ]
  },
  {
   "cell_type": "code",
   "execution_count": 2,
   "metadata": {},
   "outputs": [],
   "source": [
    "\n",
    "# goal\n",
    "GOAL = 100\n",
    "\n",
    "# all states, including state 0 and state 100\n",
    "STATES = np.arange(GOAL + 1)\n",
    "\n",
    "# probability of head\n",
    "HEAD_PROB = 0.4\n"
   ]
  },
  {
   "cell_type": "code",
   "execution_count": 6,
   "metadata": {},
   "outputs": [],
   "source": [
    "def figure_4_3():\n",
    "    # state value\n",
    "    state_value = np.zeros(GOAL + 1)\n",
    "    state_value[GOAL] = 1.0\n",
    "\n",
    "    # value iteration\n",
    "    while True:\n",
    "        delta = 0.0\n",
    "        for state in STATES[1:GOAL]:\n",
    "            # get possilbe actions for current state\n",
    "            actions = np.arange(min(state, GOAL - state) + 1)\n",
    "            action_returns = []\n",
    "            for action in actions:\n",
    "                action_returns.append(\n",
    "                    HEAD_PROB * state_value[state + action] + (1 - HEAD_PROB) * state_value[state - action])\n",
    "            new_value = np.max(action_returns)\n",
    "            delta += np.abs(state_value[state] - new_value)\n",
    "            # update state value\n",
    "            state_value[state] = new_value\n",
    "        if delta < 1e-9:\n",
    "            break\n",
    "\n",
    "    # compute the optimal policy\n",
    "    policy = np.zeros(GOAL + 1)\n",
    "    for state in STATES[1:GOAL]:\n",
    "        actions = np.arange(min(state, GOAL - state) + 1)\n",
    "        action_returns = []\n",
    "        for action in actions:\n",
    "            action_returns.append(\n",
    "                HEAD_PROB * state_value[state + action] + (1 - HEAD_PROB) * state_value[state - action])\n",
    "\n",
    "        # round to resemble the figure in the book, see\n",
    "        # https://github.com/ShangtongZhang/reinforcement-learning-an-introduction/issues/83\n",
    "        policy[state] = actions[np.argmax(np.round(action_returns[1:], 5)) + 1]\n",
    "\n",
    "    plt.figure(figsize=(10, 20))\n",
    "\n",
    "    plt.subplot(2, 1, 1)\n",
    "    plt.plot(state_value)\n",
    "    plt.xlabel('Capital')\n",
    "    plt.ylabel('Value estimates')\n",
    "\n",
    "    plt.subplot(2, 1, 2)\n",
    "    plt.scatter(STATES, policy)\n",
    "    plt.xlabel('Capital')\n",
    "    plt.ylabel('Final policy (stake)')\n",
    "\n",
    "    plt.savefig('figure_4_3.png')\n",
    "    plt.show()\n",
    "    plt.close()\n"
   ]
  },
  {
   "cell_type": "code",
   "execution_count": 7,
   "metadata": {},
   "outputs": [],
   "source": [
    "figure_4_3()"
   ]
  },
  {
   "cell_type": "code",
   "execution_count": null,
   "metadata": {},
   "outputs": [],
   "source": []
  }
 ],
 "metadata": {
  "kernelspec": {
   "display_name": "py37_django",
   "language": "python",
   "name": "py37_django"
  },
  "language_info": {
   "codemirror_mode": {
    "name": "ipython",
    "version": 3
   },
   "file_extension": ".py",
   "mimetype": "text/x-python",
   "name": "python",
   "nbconvert_exporter": "python",
   "pygments_lexer": "ipython3",
   "version": "3.7.1"
  }
 },
 "nbformat": 4,
 "nbformat_minor": 2
}
