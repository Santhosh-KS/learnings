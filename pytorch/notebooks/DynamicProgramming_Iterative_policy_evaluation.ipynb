{
 "cells": [
  {
   "cell_type": "markdown",
   "metadata": {},
   "source": [
    "## Dynamic Programming\n",
    "\n",
    "The key idea of DP, and of reinforcement learning generally, is the use of value functions to orgamize and stucture the search for good policies. In this chapter we see how DP can be used to compute the value functions. We can easily obtain optimal policies once we have found the optimal value functions, $v_*$ or $q_*$, which satisfy the Bellman optimality equations"
   ]
  },
  {
   "cell_type": "markdown",
   "metadata": {},
   "source": [
    "$\\large v_*(s) = \\underset {a}{max} \\mathbb{E} \\big[R_{t+1} + \\gamma \\space v_*(S_{t+1}) \\space | \\space S_t = s,A_t=s\\big]$\n",
    "</p>\n",
    "$\\large = \\underset {a}{max} \\sum_{s',r}p(s',r \\space | \\space s,a)\\Big[r + \\gamma \\space v_*(s') \\Big] \\rightarrow (4.1)$"
   ]
  },
  {
   "cell_type": "markdown",
   "metadata": {},
   "source": [
    "$\\large q_*(s,a) = \\mathbb{E} \\Big[ R_{t+1} + \\gamma \\underset {a}{max}q_*(S_{t+1},a') \\space | \\space S_t=2,A_t=a \\Big]$\n",
    "\n",
    "</p>\n",
    "$\\large = \\sum_{s',r}p(s',r \\space | \\space s,a) \\Big[r+\\gamma \\underset{a}{max}q_*(s',a')\\Big] \\rightarrow (4.2)$"
   ]
  },
  {
   "cell_type": "markdown",
   "metadata": {},
   "source": [
    "for all $s \\in S, a \\in A(s)$ and $s' \\in S^+$. DP algorithms are obtained by tuing Bellman equations such as 4.1 and 4.2 in to assignments, that is, into update rules for improving approximations of the desired value functions. "
   ]
  },
  {
   "cell_type": "markdown",
   "metadata": {},
   "source": [
    "## Policy Evaluation (Prediction)\n",
    "\n",
    "First we consider how to compute the state-value function $v_\\pi$ for an arbitrary policy $\\pi$. This is called **policy evaluation** in the DP liteature."
   ]
  },
  {
   "cell_type": "markdown",
   "metadata": {},
   "source": [
    "$\\large v_\\pi(s) \\doteq \\mathbb{E}_\\pi[G_t \\space | \\space S_t=s]$\n",
    "</p>\n",
    "$\\large = \\mathbb{E}_\\pi[R_{t+1} + \\gamma G_{t+1} \\space | \\space S_t=s]$\n",
    "</p>\n",
    "$\\large = \\mathbb{E}_\\pi[R_{t+1} + \\gamma v_\\pi(S_{t+1}) \\space | \\space S_t=s] \\rightarrow (4.3)$\n",
    "</p>\n",
    "$\\large = \\sum_{a}\\pi(a|s)\\sum_{s',r}p(s',r|s,a)\\Big[ r + \\gamma v_\\pi(s')\\Big] \\rightarrow (4.4)$"
   ]
  },
  {
   "cell_type": "markdown",
   "metadata": {},
   "source": [
    "Where $\\pi(a|s)$ is the probability of taking action $a$ in state $s$ under policy $\\pi$ and the expectations are subscripted by $\\pi$ to indicate that they are conditional on $\\pi$ being followed. The existence and uniqueness of $v_\\pi$ are guaranteed as lon as either $\\gamma < 1$ or eventual termination is guaranteed from all states under the policy $\\pi$."
   ]
  },
  {
   "cell_type": "markdown",
   "metadata": {},
   "source": [
    "If the environment's dynamics are completely known, then 4.4 is a system of $|S|$ simultaneous linear equations in $|S|$ unknowns.\n",
    "\n",
    "Consider a sequence of approximate value functions $v_0,v_1,v_2,....$ each mapping $S^+$ to $\\mathbb{R}$ (the real numbers). The initial approximation, $v_0$, is chosen arbitrarily (except that the terminal state, if any, must give value 0) and each successive approximation is obtained by using the Bellman equation for $v_\\pi$ (4.4) as an update rule."
   ]
  },
  {
   "cell_type": "markdown",
   "metadata": {},
   "source": [
    "$\\Large v_{k+1}(s) \\doteq \\mathbb{E}_\\pi[R_{t+1} + \\gamma v_k(S_{t+1} \\space | \\space S_t=s]$\n",
    "</p>\n",
    "$\\large = \\sum_a \\pi(a|s) \\sum_{s',r} p(s',r \\space | \\space s,a) \\Big[ r + \\gamma v_k(s') \\Big]$"
   ]
  },
  {
   "cell_type": "markdown",
   "metadata": {},
   "source": [
    "for all $s \\in S$. Clearly, $v_k = v_\\pi$ is a fixed point for this update rule because the Bellman equation for $v_\\pi$ assures us of equality in this case. Indeed, the sequence $\\{v_k\\}$ can be shown in general to converge to $v_\\pi$ as $k \\rightarrow \\infty$ under the same conditions that guarantee the existence of $v_\\pi$. This algorith is called **iterative policy evaluation.**"
   ]
  },
  {
   "cell_type": "markdown",
   "metadata": {},
   "source": [
    "**Exercise 4.1**\n",
    "</p>\n",
    "The nonterminal states are $S = \\{1,2,....,14\\}$. There are four actions possible in each state, $A = \\{up, down, ight, left \\}$, which dtermininistically caus the corresponding state transitions, except that action that would take the agent off the grid in fact leave the state unchanged. Thus, for instance, $p(6,-1 \\space | \\space 5,right) = 1, \\space p(7,-1 \\space | \\space 7,right) =1$ and $p(10,r \\space | \\space 5, right) = 0$ for all $r \\in R$. This is an undiscounted, episodic task. The reward is $-1$ on all transitions untill the terminal state is reached. The terninal state is shaded in the figure. The expected reward function is thus $r(s,a,s') = -1$ for all states $s,s'$ and actions $a$. Suppose the agent follows the equiprobable random policy, compute by iterative policy evaluation."
   ]
  },
  {
   "cell_type": "code",
   "execution_count": 1,
   "metadata": {},
   "outputs": [],
   "source": [
    "import numpy as np\n",
    "import matplotlib.pyplot as plt\n",
    "from matplotlib.table import Table"
   ]
  },
  {
   "cell_type": "code",
   "execution_count": 2,
   "metadata": {},
   "outputs": [],
   "source": [
    "def DrawTable(mat):\n",
    "    fig, ax = plt.subplots()\n",
    "    ax.set_axis_off()\n",
    "    tb = Table(ax, bbox=[0, 0, 1, 1],)\n",
    "\n",
    "    nrows, ncols = mat.shape\n",
    "    width, height = 1.0 / ncols, 1.0 / nrows\n",
    "\n",
    "    # Add cells\n",
    "    for (i,j), val in np.ndenumerate(mat):\n",
    "        if (i == 0 and j == 0) or ( i == 3 and j == 3):\n",
    "            color = 'g'\n",
    "            val = 'Goal'\n",
    "        else:\n",
    "            color = 'w'\n",
    "\n",
    "        tb.add_cell(i, j, width, height, text=val,loc='center', facecolor=color)\n",
    "\n",
    "    ax.add_table(tb)\n",
    "    plt.show()"
   ]
  },
  {
   "cell_type": "code",
   "execution_count": 3,
   "metadata": {},
   "outputs": [
    {
     "data": {
      "image/png": "[encoded data removed]",
      "text/plain": [
       "<Figure size 432x288 with 1 Axes>"
      ]
     },
     "metadata": {
      "needs_background": "light"
     },
     "output_type": "display_data"
    }
   ],
   "source": [
    "mat = np.array(range(16)).reshape(4,4)\n",
    "DrawTable(mat)"
   ]
  },
  {
   "cell_type": "markdown",
   "metadata": {},
   "source": [
    "In the above figure, the cells with green color are the terminal state for each episodic tasks"
   ]
  },
  {
   "cell_type": "markdown",
   "metadata": {},
   "source": [
    "## Solution:"
   ]
  },
  {
   "cell_type": "code",
   "execution_count": 4,
   "metadata": {},
   "outputs": [
    {
     "data": {
      "text/plain": [
       "0.25"
      ]
     },
     "execution_count": 4,
     "metadata": {},
     "output_type": "execute_result"
    }
   ],
   "source": [
    "WORLD_SIZE = 4\n",
    "\n",
    "# left, up, right, down\n",
    "Actions =[np.array([-1,0]),\n",
    "         np.array([0,-1]),\n",
    "         np.array([1,0]),\n",
    "         np.array([0,1])]\n",
    "\n",
    "Prob = 1/len(Actions)\n",
    "Prob"
   ]
  },
  {
   "cell_type": "code",
   "execution_count": 5,
   "metadata": {},
   "outputs": [],
   "source": [
    "def Step(state, action):\n",
    "    state = np.array(state)\n",
    "    next_state = (state + action).tolist()\n",
    "    x, y = next_state\n",
    "    if x < 0 or x >= WORLD_SIZE or y < 0 or y >= WORLD_SIZE:\n",
    "        next_state = state\n",
    "    \n",
    "    reward = -1\n",
    "    return next_state, reward"
   ]
  },
  {
   "cell_type": "code",
   "execution_count": 6,
   "metadata": {},
   "outputs": [],
   "source": [
    "def IsTerminalStateReached(state):\n",
    "    x,y=state\n",
    "    return (x == 0 and y == 0) or (x == WORLD_SIZE-1 and y == WORLD_SIZE-1)\n",
    "        "
   ]
  },
  {
   "cell_type": "code",
   "execution_count": 7,
   "metadata": {},
   "outputs": [
    {
     "name": "stdout",
     "output_type": "stream",
     "text": [
      "Value got converged on 16 iterations\n"
     ]
    },
    {
     "data": {
      "image/png": "[encoded data removed]",
      "text/plain": [
       "<Figure size 432x288 with 1 Axes>"
      ]
     },
     "metadata": {
      "needs_background": "light"
     },
     "output_type": "display_data"
    }
   ],
   "source": [
    "NewStateValues = np.zeros((WORLD_SIZE,WORLD_SIZE))\n",
    "StateValues = NewStateValues.copy()\n",
    "count = 0\n",
    "while True:\n",
    "    count +=1\n",
    "    for i in range(WORLD_SIZE):\n",
    "        for j in range(WORLD_SIZE):\n",
    "            if IsTerminalStateReached([i,j]):\n",
    "                continue\n",
    "            value = 0\n",
    "            for act in Actions:\n",
    "                (next_x,next_y),reward = Step([i,j],act)\n",
    "                value += Prob * (reward + NewStateValues[next_x,next_y])\n",
    "            NewStateValues[i,j] = round(value) \n",
    "            #print(f'{i},{j} = {value}')\n",
    "    #print(f'abs sum = {np.sum(np.abs(NewStateValues - StateValues))}')\n",
    "    if np.sum(np.abs(NewStateValues - StateValues)) < 1e-4:\n",
    "        StateValues = NewStateValues.copy()\n",
    "        break\n",
    "    StateValues = NewStateValues.copy()\n",
    "\n",
    "print(f'Value got converged on {count} iterations')\n",
    "#print(StateValues)\n",
    "DrawTable(StateValues)       "
   ]
  },
  {
   "cell_type": "markdown",
   "metadata": {},
   "source": [
    "## Iterative Policy Evaluation, for estimating $V \\approx v_\\pi$\n",
    "\n",
    "**Algorighm**\n",
    ">\n",
    "Input $\\pi$, the policy to be evaluated\n",
    "Alogirhm parameter: a small threshold $\\theta > 0$ determining accuracy of estimation\n",
    "Initialize $\\large V(s)$ for all $s \\in \\mathbf{S}^+$, arbitrarily except that $V(terminal) = 0$\n"
   ]
  },
  {
   "cell_type": "markdown",
   "metadata": {},
   "source": [
    "$\\large\n",
    "\\begin{align}\n",
    " Loop: {} \\\\\n",
    "     & \\Delta \\leftarrow 0 \\\\\n",
    "     & \\text{Loop for each} \\space s \\in S: \\\\\n",
    "         &&& v \\leftarrow V(s) \\\\\n",
    "         &&& V(s) \\leftarrow \\sum_a \\pi(a|s) \\space \\sum_{s',r'}p(s',r|s,a)\\Big[r +\\gamma V(s') \\Big] \\\\\n",
    "         &&& \\Delta \\leftarrow max(\\Delta,|v-V(s)|) \\\\\n",
    "\\end{align}\n",
    "$\n",
    ">\n",
    "$\\large \\text{until} \\Delta < \\theta$"
   ]
  },
  {
   "cell_type": "markdown",
   "metadata": {},
   "source": [
    "Below code is work in progress to implement the above logic. Not correct\n",
    " "
   ]
  },
  {
   "cell_type": "code",
   "execution_count": 29,
   "metadata": {},
   "outputs": [],
   "source": [
    "States = np.array(range(16))\n",
    "Rewards = -1\n",
    "V_s = np.zeros(16)\n",
    "#theta = np.random.random_sample()\n",
    "theta = 1e-4\n",
    "prob = 1/len(States)\n",
    "gamma = 0.9"
   ]
  },
  {
   "cell_type": "code",
   "execution_count": 30,
   "metadata": {},
   "outputs": [
    {
     "name": "stdout",
     "output_type": "stream",
     "text": [
      "theta = 0.0001\n",
      "number of iterations 15736\n",
      "[-0.06622517 -0.06622517 -0.06622517 -0.06622517 -0.06622517 -0.06622517\n",
      " -0.06622517 -0.06622517 -0.06622517 -0.06622517 -0.06622517 -0.06622517\n",
      " -0.06622517 -0.06622517 -0.06622517 -0.06622517]\n"
     ]
    }
   ],
   "source": [
    "count = 0\n",
    "\n",
    "while True:\n",
    "    delta = np.random.random_sample();\n",
    "    count +=1\n",
    "    for i,s in enumerate(States):\n",
    "        v = V_s\n",
    "        if i == States[0]:\n",
    "            i_dash = np.random.randint(0,10)\n",
    "        V_s[i] = prob * (Rewards + gamma * V_s[i_dash] )\n",
    "        delta = max(delta, np.abs(v.sum()-V_s.sum()))\n",
    "    if delta < theta:\n",
    "        break\n",
    "print(f'theta = {theta}')\n",
    "print(f'number of iterations {count}')\n",
    "print(V_s)"
   ]
  },
  {
   "cell_type": "code",
   "execution_count": null,
   "metadata": {},
   "outputs": [],
   "source": []
  },
  {
   "cell_type": "code",
   "execution_count": null,
   "metadata": {},
   "outputs": [],
   "source": []
  }
 ],
 "metadata": {
  "kernelspec": {
   "display_name": "py37_django",
   "language": "python",
   "name": "py37_django"
  },
  "language_info": {
   "codemirror_mode": {
    "name": "ipython",
    "version": 3
   },
   "file_extension": ".py",
   "mimetype": "text/x-python",
   "name": "python",
   "nbconvert_exporter": "python",
   "pygments_lexer": "ipython3",
   "version": "3.7.1"
  }
 },
 "nbformat": 4,
 "nbformat_minor": 2
}
