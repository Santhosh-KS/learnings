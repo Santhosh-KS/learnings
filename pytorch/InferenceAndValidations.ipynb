{
 "cells": [
  {
   "cell_type": "markdown",
   "metadata": {},
   "source": [
    "## Inference and Validation"
   ]
  },
  {
   "cell_type": "code",
   "execution_count": 1,
   "metadata": {},
   "outputs": [],
   "source": [
    "import torch\n",
    "from torchvision import datasets, transforms"
   ]
  },
  {
   "cell_type": "code",
   "execution_count": 2,
   "metadata": {},
   "outputs": [],
   "source": [
    "# Define a transform to normalize the data\n",
    "transform = transforms.Compose([transforms.ToTensor(),\n",
    "                                transforms.Normalize((0.5, 0.5, 0.5), (0.5, 0.5, 0.5))])\n",
    "# Download and load the training data\n",
    "trainset = datasets.FashionMNIST('~/.pytorch/F_MNIST_data/', download=True, train=True, transform=transform)\n",
    "trainloader = torch.utils.data.DataLoader(trainset, batch_size=64, shuffle=True)\n",
    "\n",
    "# Download and load the test data\n",
    "testset = datasets.FashionMNIST('~/.pytorch/F_MNIST_data/', download=True, train=False, transform=transform)\n",
    "testloader = torch.utils.data.DataLoader(testset, batch_size=64, shuffle=True)"
   ]
  },
  {
   "cell_type": "markdown",
   "metadata": {},
   "source": [
    "### Create a Custom model"
   ]
  },
  {
   "cell_type": "code",
   "execution_count": 15,
   "metadata": {},
   "outputs": [],
   "source": [
    "import torch.nn as nn\n",
    "import torch.nn.functional as F"
   ]
  },
  {
   "cell_type": "code",
   "execution_count": 37,
   "metadata": {},
   "outputs": [],
   "source": [
    "class FashionMnistClassifier(nn.Module):\n",
    "    \n",
    "    def __init__(self):\n",
    "        \n",
    "        super().__init__()\n",
    "        \n",
    "        self.input = nn.Linear(784, 256)\n",
    "        self.fc1 = nn.Linear(256, 128)\n",
    "        self.fc2 = nn.Linear(128, 64)\n",
    "        self.fc3 = nn.Linear(64, 10)\n",
    "    \n",
    "    def forward(self, x):\n",
    "        x = x.view(x.shape[0],-1)\n",
    "        x = F.relu(self.input(x))\n",
    "        x = F.relu(self.fc1(x))\n",
    "        x = F.relu(self.fc2(x))\n",
    "        x = F.log_softmax(self.fc3(x),dim=1)\n",
    "        \n",
    "        return x\n",
    "      \n",
    "        "
   ]
  },
  {
   "cell_type": "code",
   "execution_count": 38,
   "metadata": {},
   "outputs": [
    {
     "name": "stdout",
     "output_type": "stream",
     "text": [
      "FashionMnistClassifier(\n",
      "  (input): Linear(in_features=784, out_features=256, bias=True)\n",
      "  (fc1): Linear(in_features=256, out_features=128, bias=True)\n",
      "  (fc2): Linear(in_features=128, out_features=64, bias=True)\n",
      "  (fc3): Linear(in_features=64, out_features=10, bias=True)\n",
      ")\n"
     ]
    }
   ],
   "source": [
    "class_model = FashionMnistClassifier()\n",
    "print(class_model)"
   ]
  },
  {
   "cell_type": "code",
   "execution_count": 39,
   "metadata": {},
   "outputs": [
    {
     "name": "stdout",
     "output_type": "stream",
     "text": [
      "NLLLoss()\n"
     ]
    }
   ],
   "source": [
    "loss_criteria = nn.NLLLoss()\n",
    "print(loss_criteria)"
   ]
  },
  {
   "cell_type": "code",
   "execution_count": 40,
   "metadata": {},
   "outputs": [],
   "source": [
    "import torch.optim as optim"
   ]
  },
  {
   "cell_type": "code",
   "execution_count": 41,
   "metadata": {},
   "outputs": [
    {
     "name": "stdout",
     "output_type": "stream",
     "text": [
      "Adam (\n",
      "Parameter Group 0\n",
      "    amsgrad: False\n",
      "    betas: (0.9, 0.999)\n",
      "    eps: 1e-08\n",
      "    lr: 0.01\n",
      "    weight_decay: 0\n",
      ")\n"
     ]
    }
   ],
   "source": [
    "adam_optimizer = optim.Adam(class_model.parameters(),lr=0.01)\n",
    "print(adam_optimizer)"
   ]
  },
  {
   "cell_type": "code",
   "execution_count": 42,
   "metadata": {},
   "outputs": [
    {
     "name": "stdout",
     "output_type": "stream",
     "text": [
      "Epoch = 0, cumulative_loss = 0.581052034696155\n",
      "Epoch = 1, cumulative_loss = 0.4650608664477812\n",
      "Epoch = 2, cumulative_loss = 0.42486830239992407\n",
      "Epoch = 3, cumulative_loss = 0.41450860913692\n",
      "Epoch = 4, cumulative_loss = 0.4062561432340506\n"
     ]
    }
   ],
   "source": [
    "epochs = 5\n",
    "\n",
    "for e in range(epochs):\n",
    "    cumulative_loss = 0\n",
    "    \n",
    "    for images, lables in trainloader:\n",
    "        \n",
    "        adam_optimizer.zero_grad()\n",
    "        \n",
    "        logPs = class_model(images)\n",
    "        loss = loss_criteria(logPs, lables)\n",
    "        loss.backward()\n",
    "        adam_optimizer.step()\n",
    "        \n",
    "        cumulative_loss += loss.item()\n",
    "        \n",
    "    else:\n",
    "        print(f'Epoch = {e}, cumulative_loss = {cumulative_loss/len(trainloader)}')"
   ]
  },
  {
   "cell_type": "markdown",
   "metadata": {},
   "source": [
    "Let us see how our model behaves on the test data. "
   ]
  },
  {
   "cell_type": "code",
   "execution_count": 43,
   "metadata": {},
   "outputs": [],
   "source": [
    "test_model = FashionMnistClassifier()"
   ]
  },
  {
   "cell_type": "code",
   "execution_count": 49,
   "metadata": {},
   "outputs": [
    {
     "data": {
      "text/plain": [
       "(torch.Size([64, 1, 28, 28]), torch.Size([64]))"
      ]
     },
     "execution_count": 49,
     "metadata": {},
     "output_type": "execute_result"
    }
   ],
   "source": [
    "test_imgs, test_lbls = next(iter(testloader))\n",
    "test_imgs.shape, test_lbls.shape"
   ]
  },
  {
   "cell_type": "markdown",
   "metadata": {},
   "source": [
    "Let us get the probability"
   ]
  },
  {
   "cell_type": "code",
   "execution_count": 45,
   "metadata": {},
   "outputs": [],
   "source": [
    "# in our model we are using nn.LogSoftmax() so we get the log(probability)\n",
    "log_probability = test_model(test_imgs)"
   ]
  },
  {
   "cell_type": "code",
   "execution_count": 46,
   "metadata": {},
   "outputs": [],
   "source": [
    "# from linear algebra to get the probablity we take the exp(log_probability) which cancels out the e\n",
    "probability = torch.exp(log_probability)"
   ]
  },
  {
   "cell_type": "code",
   "execution_count": 47,
   "metadata": {},
   "outputs": [
    {
     "data": {
      "text/plain": [
       "torch.Size([64, 10])"
      ]
     },
     "execution_count": 47,
     "metadata": {},
     "output_type": "execute_result"
    }
   ],
   "source": [
    "probability.shape"
   ]
  },
  {
   "cell_type": "code",
   "execution_count": 53,
   "metadata": {},
   "outputs": [
    {
     "data": {
      "text/plain": [
       "\u001b[0;31mDocstring:\u001b[0m\n",
       "topk(k, dim=None, largest=True, sorted=True) -> (Tensor, LongTensor)\n",
       "\n",
       "See :func:`torch.topk`\n",
       "\u001b[0;31mType:\u001b[0m      builtin_function_or_method\n"
      ]
     },
     "metadata": {},
     "output_type": "display_data"
    }
   ],
   "source": [
    "#probability.topk(1)\n",
    "??probability.topk()"
   ]
  },
  {
   "cell_type": "code",
   "execution_count": 55,
   "metadata": {},
   "outputs": [
    {
     "data": {
      "text/plain": [
       "(torch.Size([64, 1]), torch.Size([64, 1]))"
      ]
     },
     "execution_count": 55,
     "metadata": {},
     "output_type": "execute_result"
    }
   ],
   "source": [
    "top_prob, top_class = probability.topk(1, dim=1)\n",
    "top_prob.shape, top_class.shape"
   ]
  },
  {
   "cell_type": "code",
   "execution_count": 64,
   "metadata": {},
   "outputs": [
    {
     "data": {
      "text/plain": [
       "tensor([[5],\n",
       "        [0],\n",
       "        [0],\n",
       "        [5],\n",
       "        [5],\n",
       "        [5],\n",
       "        [0],\n",
       "        [5],\n",
       "        [5],\n",
       "        [5]])"
      ]
     },
     "execution_count": 64,
     "metadata": {},
     "output_type": "execute_result"
    }
   ],
   "source": [
    "top_class[:10,:]"
   ]
  },
  {
   "cell_type": "code",
   "execution_count": 66,
   "metadata": {},
   "outputs": [
    {
     "data": {
      "text/plain": [
       "torch.Size([64, 64])"
      ]
     },
     "execution_count": 66,
     "metadata": {},
     "output_type": "execute_result"
    }
   ],
   "source": [
    "eq = top_class == test_lbls\n",
    "eq.shape"
   ]
  },
  {
   "cell_type": "code",
   "execution_count": 78,
   "metadata": {},
   "outputs": [
    {
     "data": {
      "text/plain": [
       "torch.Size([64, 1])"
      ]
     },
     "execution_count": 78,
     "metadata": {},
     "output_type": "execute_result"
    }
   ],
   "source": [
    "eq = top_class == test_lbls.view(*top_class.shape)\n",
    "eq.shape\n",
    "\n",
    "# below code also gives the same dimention tensor not sure why '*' is used.\n",
    "#eq = top_class == test_lbls.view(top_class.shape)\n",
    "#eq.shape\n"
   ]
  },
  {
   "cell_type": "code",
   "execution_count": 83,
   "metadata": {},
   "outputs": [
    {
     "data": {
      "text/plain": [
       "('torch.ByteTensor', 'torch.LongTensor', 'torch.FloatTensor')"
      ]
     },
     "execution_count": 83,
     "metadata": {},
     "output_type": "execute_result"
    }
   ],
   "source": [
    "eq.type(), top_class.type(), top_prob.type()"
   ]
  },
  {
   "cell_type": "code",
   "execution_count": 85,
   "metadata": {},
   "outputs": [
    {
     "ename": "RuntimeError",
     "evalue": "Can only calculate the mean of floating types. Got Byte instead.",
     "output_type": "error",
     "traceback": [
      "\u001b[0;31m---------------------------------------------------------------------------\u001b[0m",
      "\u001b[0;31mRuntimeError\u001b[0m                              Traceback (most recent call last)",
      "\u001b[0;32m<ipython-input-85-bce357c8d63a>\u001b[0m in \u001b[0;36m<module>\u001b[0;34m()\u001b[0m\n\u001b[0;32m----> 1\u001b[0;31m \u001b[0mpredict_mean\u001b[0m \u001b[0;34m=\u001b[0m \u001b[0mtorch\u001b[0m\u001b[0;34m.\u001b[0m\u001b[0mmean\u001b[0m\u001b[0;34m(\u001b[0m\u001b[0meq\u001b[0m\u001b[0;34m)\u001b[0m\u001b[0;34m\u001b[0m\u001b[0;34m\u001b[0m\u001b[0m\n\u001b[0m",
      "\u001b[0;31mRuntimeError\u001b[0m: Can only calculate the mean of floating types. Got Byte instead."
     ]
    }
   ],
   "source": [
    "predict_mean = torch.mean(eq)"
   ]
  },
  {
   "cell_type": "code",
   "execution_count": 87,
   "metadata": {},
   "outputs": [
    {
     "data": {
      "text/plain": [
       "tensor(0.1094)"
      ]
     },
     "execution_count": 87,
     "metadata": {},
     "output_type": "execute_result"
    }
   ],
   "source": [
    "predict_mean = torch.mean(eq.type(torch.FloatTensor))\n",
    "predict_mean"
   ]
  },
  {
   "cell_type": "code",
   "execution_count": 89,
   "metadata": {},
   "outputs": [
    {
     "name": "stdout",
     "output_type": "stream",
     "text": [
      "Accuracy = 10.9375 %\n"
     ]
    }
   ],
   "source": [
    "accuacy = predict_mean * 100\n",
    "print(f'Accuracy = {accuacy} %')"
   ]
  },
  {
   "cell_type": "code",
   "execution_count": 91,
   "metadata": {},
   "outputs": [],
   "source": [
    "my_model = FashionMnistClassifier()\n",
    "loss_criterion = nn.NLLLoss()\n",
    "adm_optim = optim.Adam(my_model.parameters(), lr=0.01)\n",
    "\n"
   ]
  },
  {
   "cell_type": "code",
   "execution_count": 105,
   "metadata": {},
   "outputs": [
    {
     "name": "stdout",
     "output_type": "stream",
     "text": [
      "Epoch: 1/30..  Training Loss: 0.539..  Test Loss: 0.507..  Test Accuracy: 0.849\n",
      "Epoch: 2/30..  Training Loss: 0.321..  Test Loss: 0.546..  Test Accuracy: 0.849\n",
      "Epoch: 3/30..  Training Loss: 0.310..  Test Loss: 0.434..  Test Accuracy: 0.861\n",
      "Epoch: 4/30..  Training Loss: 0.290..  Test Loss: 0.452..  Test Accuracy: 0.869\n",
      "Epoch: 5/30..  Training Loss: 0.300..  Test Loss: 0.506..  Test Accuracy: 0.863\n",
      "Epoch: 6/30..  Training Loss: 0.304..  Test Loss: 0.464..  Test Accuracy: 0.864\n",
      "Epoch: 7/30..  Training Loss: 0.293..  Test Loss: 0.506..  Test Accuracy: 0.860\n",
      "Epoch: 8/30..  Training Loss: 0.301..  Test Loss: 0.505..  Test Accuracy: 0.856\n",
      "Epoch: 9/30..  Training Loss: 0.305..  Test Loss: 0.503..  Test Accuracy: 0.862\n",
      "Epoch: 10/30..  Training Loss: 0.286..  Test Loss: 0.448..  Test Accuracy: 0.864\n",
      "Epoch: 11/30..  Training Loss: 0.311..  Test Loss: 0.503..  Test Accuracy: 0.865\n",
      "Epoch: 12/30..  Training Loss: 0.323..  Test Loss: 0.478..  Test Accuracy: 0.868\n",
      "Epoch: 13/30..  Training Loss: 0.304..  Test Loss: 0.501..  Test Accuracy: 0.860\n",
      "Epoch: 14/30..  Training Loss: 0.303..  Test Loss: 0.514..  Test Accuracy: 0.858\n",
      "Epoch: 15/30..  Training Loss: 0.347..  Test Loss: 0.510..  Test Accuracy: 0.860\n",
      "Epoch: 16/30..  Training Loss: 0.281..  Test Loss: 0.516..  Test Accuracy: 0.852\n",
      "Epoch: 17/30..  Training Loss: 0.294..  Test Loss: 0.487..  Test Accuracy: 0.863\n",
      "Epoch: 18/30..  Training Loss: 0.296..  Test Loss: 0.490..  Test Accuracy: 0.861\n",
      "Epoch: 19/30..  Training Loss: 0.297..  Test Loss: 0.518..  Test Accuracy: 0.849\n",
      "Epoch: 20/30..  Training Loss: 0.325..  Test Loss: 0.531..  Test Accuracy: 0.850\n",
      "Epoch: 21/30..  Training Loss: 0.325..  Test Loss: 0.506..  Test Accuracy: 0.863\n",
      "Epoch: 22/30..  Training Loss: 0.334..  Test Loss: 0.484..  Test Accuracy: 0.869\n",
      "Epoch: 23/30..  Training Loss: 0.284..  Test Loss: 0.481..  Test Accuracy: 0.858\n",
      "Epoch: 24/30..  Training Loss: 0.293..  Test Loss: 0.513..  Test Accuracy: 0.847\n",
      "Epoch: 25/30..  Training Loss: 0.314..  Test Loss: 0.485..  Test Accuracy: 0.865\n",
      "Epoch: 26/30..  Training Loss: 0.317..  Test Loss: 0.483..  Test Accuracy: 0.865\n",
      "Epoch: 27/30..  Training Loss: 0.302..  Test Loss: 0.582..  Test Accuracy: 0.855\n",
      "Epoch: 28/30..  Training Loss: 0.293..  Test Loss: 0.444..  Test Accuracy: 0.861\n",
      "Epoch: 29/30..  Training Loss: 0.279..  Test Loss: 0.516..  Test Accuracy: 0.862\n",
      "Epoch: 30/30..  Training Loss: 0.380..  Test Loss: 0.531..  Test Accuracy: 0.851\n"
     ]
    }
   ],
   "source": [
    "epochs = 30\n",
    "\n",
    "training_loss = []\n",
    "testing_loss = []\n",
    "for e in range(epochs):\n",
    "    cum_loss = 0\n",
    "    \n",
    "    for images, lables in trainloader:\n",
    "        \n",
    "        adm_optim.zero_grad()\n",
    "        \n",
    "        log_prob = my_model(images)\n",
    "        loss = loss_criterion(log_prob, lables)\n",
    "        loss.backward()\n",
    "        adm_optim.step()\n",
    "        \n",
    "        cum_loss += loss.item()\n",
    "        \n",
    "    else:\n",
    "        test_loss = 0\n",
    "        accuracy = 0\n",
    "        \n",
    "        with torch.no_grad():\n",
    "            \n",
    "            for tst_imgs, tst_lbls in testloader:\n",
    "                \n",
    "                tst_log_ps = my_model(tst_imgs)\n",
    "                test_loss += loss_criterion(tst_log_ps, tst_lbls)\n",
    "                \n",
    "                ps = torch.exp(tst_log_ps)\n",
    "                top_prob, top_class = ps.topk(1,dim=1)\n",
    "                eq = top_class == tst_lbls.view(*top_class.shape)\n",
    "                predict_mean = torch.mean(eq.type(torch.FloatTensor))\n",
    "                accuracy += predict_mean\n",
    "                \n",
    "        training_loss.append(cum_loss/len(trainloader))\n",
    "        testing_loss.append(test_loss/len(testloader))\n",
    "\n",
    "        print(\"Epoch: {}/{}.. \".format(e+1, epochs),\n",
    "              \"Training Loss: {:.3f}.. \".format(cum_loss/len(trainloader)),\n",
    "              \"Test Loss: {:.3f}.. \".format(test_loss/len(testloader)),\n",
    "              \"Test Accuracy: {:.3f}\".format(accuracy/len(testloader)))\n",
    "            \n",
    "            \n",
    "        #print(f'Epoch = {e} , Loss = {cum_loss/len(trainloader)} Accuracy = {acc}%')"
   ]
  },
  {
   "cell_type": "code",
   "execution_count": 106,
   "metadata": {},
   "outputs": [],
   "source": [
    "%matplotlib inline\n",
    "%config InlineBackend.figure_format = 'retina'\n",
    "\n",
    "import matplotlib.pyplot as plt"
   ]
  },
  {
   "cell_type": "code",
   "execution_count": 107,
   "metadata": {},
   "outputs": [
    {
     "data": {
      "text/plain": [
       "<matplotlib.legend.Legend at 0x7f723b815128>"
      ]
     },
     "execution_count": 107,
     "metadata": {},
     "output_type": "execute_result"
    },
    {
     "data": {
      "image/png": "[encoded data removed]",
      "text/plain": [
       "<Figure size 432x288 with 1 Axes>"
      ]
     },
     "metadata": {
      "image/png": {
       "height": 250,
       "width": 380
      },
      "needs_background": "light"
     },
     "output_type": "display_data"
    }
   ],
   "source": [
    "plt.plot(training_loss, label='Training loss')\n",
    "plt.plot(testing_loss, label='Validation loss')\n",
    "plt.legend(frameon=False)"
   ]
  },
  {
   "cell_type": "code",
   "execution_count": 104,
   "metadata": {},
   "outputs": [
    {
     "name": "stdout",
     "output_type": "stream",
     "text": [
      "The Zen of Python, by Tim Peters\n",
      "\n",
      "Beautiful is better than ugly.\n",
      "Explicit is better than implicit.\n",
      "Simple is better than complex.\n",
      "Complex is better than complicated.\n",
      "Flat is better than nested.\n",
      "Sparse is better than dense.\n",
      "Readability counts.\n",
      "Special cases aren't special enough to break the rules.\n",
      "Although practicality beats purity.\n",
      "Errors should never pass silently.\n",
      "Unless explicitly silenced.\n",
      "In the face of ambiguity, refuse the temptation to guess.\n",
      "There should be one-- and preferably only one --obvious way to do it.\n",
      "Although that way may not be obvious at first unless you're Dutch.\n",
      "Now is better than never.\n",
      "Although never is often better than *right* now.\n",
      "If the implementation is hard to explain, it's a bad idea.\n",
      "If the implementation is easy to explain, it may be a good idea.\n",
      "Namespaces are one honking great idea -- let's do more of those!\n"
     ]
    }
   ],
   "source": []
  },
  {
   "cell_type": "code",
   "execution_count": null,
   "metadata": {},
   "outputs": [],
   "source": []
  }
 ],
 "metadata": {
  "kernelspec": {
   "display_name": "py37_django",
   "language": "python",
   "name": "py37_django"
  },
  "language_info": {
   "codemirror_mode": {
    "name": "ipython",
    "version": 3
   },
   "file_extension": ".py",
   "mimetype": "text/x-python",
   "name": "python",
   "nbconvert_exporter": "python",
   "pygments_lexer": "ipython3",
   "version": "3.7.1"
  }
 },
 "nbformat": 4,
 "nbformat_minor": 2
}
